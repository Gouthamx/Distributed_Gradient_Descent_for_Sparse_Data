{
 "cells": [
  {
   "cell_type": "code",
   "execution_count": 1,
   "id": "96cd7b49",
   "metadata": {},
   "outputs": [],
   "source": [
    "try:\n",
    "    spark.stop()\n",
    "except:\n",
    "    pass"
   ]
  },
  {
   "cell_type": "code",
   "execution_count": 2,
   "id": "06dc5d9f-9c1f-49da-9502-acccac85a145",
   "metadata": {},
   "outputs": [
    {
     "name": "stdout",
     "output_type": "stream",
     "text": [
      "2.5.1\n"
     ]
    }
   ],
   "source": [
    "import torch\n",
    "print(torch.__version__)"
   ]
  },
  {
   "cell_type": "code",
   "execution_count": 3,
   "id": "c901f8a3-046a-4aed-901e-19fa7139134c",
   "metadata": {},
   "outputs": [
    {
     "name": "stdout",
     "output_type": "stream",
     "text": [
      "4.0.0\n"
     ]
    }
   ],
   "source": [
    "from pyspark.sql import SparkSession\n",
    "spark = SparkSession.builder.appName(\"MovieRecSys\").getOrCreate()\n",
    "print(spark.version)"
   ]
  },
  {
   "cell_type": "code",
   "execution_count": 4,
   "id": "648c84d7-5dd4-4596-b632-7ff6b15f9e21",
   "metadata": {},
   "outputs": [
    {
     "name": "stdout",
     "output_type": "stream",
     "text": [
      "32000204\n",
      "+------+-------+------+\n",
      "|userId|movieId|rating|\n",
      "+------+-------+------+\n",
      "|    28|      1|   4.0|\n",
      "|    28|      2|   3.0|\n",
      "|    28|      3|   4.0|\n",
      "|    28|      5|   2.0|\n",
      "|    28|      6|   3.0|\n",
      "+------+-------+------+\n",
      "only showing top 5 rows\n",
      "Rows after limiting: 154972\n",
      "Unique users: 1000\n",
      "Unique Movies: 11459\n"
     ]
    }
   ],
   "source": [
    "from pyspark.sql import SparkSession\n",
    "from pyspark.sql.functions import col\n",
    "from pyspark.sql.types import StructType, StructField, IntegerType, FloatType\n",
    "\n",
    "schema = StructType([\n",
    "    StructField(\"userId\", IntegerType(), True),\n",
    "    StructField(\"movieId\", IntegerType(), True),\n",
    "    StructField(\"rating\", FloatType(), True)\n",
    "])\n",
    "# Read ratings.csv\n",
    "df = spark.read.csv(\"ratings.csv\", header=True, schema = schema).cache()\n",
    "print(df.count())\n",
    "# Select first 1000 unique users\n",
    "unique_users = df.select(\"userId\").distinct().limit(1000)\n",
    "\n",
    "# Keep only rows from these users\n",
    "df = df.join(unique_users, on=\"userId\", how=\"inner\")\n",
    "\n",
    "df.show(5)\n",
    "print(\"Rows after limiting:\", df.count())\n",
    "print(\"Unique users:\", df.select(\"userId\").distinct().count())\n",
    "print(\"Unique Movies:\", df.select(\"movieId\").distinct().count())"
   ]
  },
  {
   "cell_type": "code",
   "execution_count": 5,
   "id": "a0577f51-33aa-4c3b-b8a4-b4856eec7c5b",
   "metadata": {},
   "outputs": [
    {
     "name": "stdout",
     "output_type": "stream",
     "text": [
      "+----+-----+-------------+\n",
      "|user|movie|rating_scaled|\n",
      "+----+-----+-------------+\n",
      "| 0.0| 11.0|          0.8|\n",
      "| 0.0|157.0|          0.6|\n",
      "| 0.0|456.0|          0.8|\n",
      "| 0.0|389.0|          0.3|\n",
      "| 0.0|139.0|          0.6|\n",
      "+----+-----+-------------+\n",
      "only showing top 5 rows\n"
     ]
    }
   ],
   "source": [
    "from pyspark.sql.functions import col, round as spark_round\n",
    "from pyspark.ml.feature import StringIndexer, VectorAssembler, MinMaxScaler\n",
    "from pyspark.ml import Pipeline\n",
    "from pyspark.ml.functions import vector_to_array\n",
    "\n",
    "user_indexer = StringIndexer(inputCol=\"userId\", outputCol=\"user\")\n",
    "movie_indexer = StringIndexer(inputCol=\"movieId\", outputCol=\"movie\")\n",
    "assembler = VectorAssembler(inputCols=[\"rating\"], outputCol=\"rating_vec\")\n",
    "scaler = MinMaxScaler(inputCol=\"rating_vec\", outputCol=\"rating_scaled\")\n",
    "\n",
    "pipeline = Pipeline(stages=[user_indexer, movie_indexer, assembler, scaler])\n",
    "\n",
    "pipeline_model = pipeline.fit(df)\n",
    "scaled_df = pipeline_model.transform(df)\n",
    "\n",
    "# Flatten vector -> float, then round to 1 decimal\n",
    "scaled_df = scaled_df.withColumn(\n",
    "    \"rating_scaled\",\n",
    "    spark_round(vector_to_array(col(\"rating_scaled\"))[0], 1)\n",
    ")\n",
    "\n",
    "# Keep only necessary columns\n",
    "df_final = scaled_df.select(\"user\", \"movie\", \"rating_scaled\")\n",
    "df_final = df_final.cache()\n",
    "df_final.show(5)"
   ]
  },
  {
   "cell_type": "code",
   "execution_count": 6,
   "id": "e98880b3",
   "metadata": {},
   "outputs": [],
   "source": [
    "spark.conf.set(\"spark.sql.execution.arrow.enabled\", \"true\")"
   ]
  },
  {
   "cell_type": "code",
   "execution_count": 7,
   "id": "0c3d15b3",
   "metadata": {},
   "outputs": [
    {
     "name": "stdout",
     "output_type": "stream",
     "text": [
      "Train count: 123827\n",
      "Train Label: 123827\n",
      "Test count: 31145\n",
      "Test Label: 31145\n"
     ]
    }
   ],
   "source": [
    "import torch\n",
    "\n",
    "# 80% train, 20% test\n",
    "train_df, test_df = df_final.randomSplit([0.8, 0.2], seed=42)\n",
    "\n",
    "#Converting PySpark DF to Pandas to Tensors\n",
    "train_pd = train_df.toPandas()\n",
    "test_pd = test_df.toPandas()\n",
    "\n",
    "X_train = torch.tensor(train_pd[[\"user\", \"movie\"]].values)\n",
    "y_train = torch.tensor(train_pd[\"rating_scaled\"].values)\n",
    "\n",
    "X_test = torch.tensor(test_pd[[\"user\", \"movie\"]].values)\n",
    "y_test = torch.tensor(test_pd[\"rating_scaled\"].values)\n",
    "\n",
    "print(\"Train count:\", X_train.shape[0])\n",
    "print(\"Train Label:\",y_train.shape[0])\n",
    "print(\"Test count:\", X_test.shape[0])\n",
    "print(\"Test Label:\",y_test.shape[0])"
   ]
  },
  {
   "cell_type": "code",
   "execution_count": 8,
   "id": "fbe525d8-319a-45f5-957e-bcc953b8e617",
   "metadata": {},
   "outputs": [],
   "source": [
    "from torch.utils.data import TensorDataset, DataLoader\n",
    "\n",
    "# Create datasets\n",
    "train_dataset = TensorDataset(X_train, y_train)\n",
    "test_dataset = TensorDataset(X_test, y_test)\n",
    "#print(train_dataset[2200])\n",
    "\n",
    "# DataLoaders\n",
    "train_loader = DataLoader(train_dataset, batch_size=64, shuffle=True)\n",
    "test_loader = DataLoader(test_dataset, batch_size=64)"
   ]
  },
  {
   "cell_type": "code",
   "execution_count": 9,
   "id": "95de7640-7647-4ae2-b1a3-fc3b8419eb90",
   "metadata": {},
   "outputs": [],
   "source": [
    "import torch.nn as nn\n",
    "import torch.nn.functional as F\n",
    "\n",
    "class CollabFiltering(nn.Module):\n",
    "    def __init__(self, n_users, n_movies, emb_dim, hidden, dropout):\n",
    "        super().__init__()\n",
    "        self.user_emb = nn.Embedding(n_users, emb_dim)   \n",
    "        self.movie_emb = nn.Embedding(n_movies, emb_dim)  \n",
    "        self.dropout_emb = 0.4\n",
    "\n",
    "        self.mlp = nn.Sequential(\n",
    "            nn.Linear(emb_dim * 2, hidden), \n",
    "            nn.BatchNorm1d(hidden),  \n",
    "            nn.ReLU(),\n",
    "            nn.Dropout(dropout),\n",
    "            nn.Linear(hidden, 1),  \n",
    "            nn.ReLU()  \n",
    "        )\n",
    "\n",
    "    def forward(self,user,movie):\n",
    "        u = F.dropout(self.user_emb(user), p=self.dropout_emb, training=self.training)\n",
    "        m = F.dropout(self.movie_emb(movie), p=self.dropout_emb, training=self.training)\n",
    "        \n",
    "        # Concatenate embeddings (instead of dot product)\n",
    "        x = torch.cat([u, m], dim=1)\n",
    "        \n",
    "        # Pass through MLP\n",
    "        return self.mlp(x).squeeze()\n",
    "\n",
    "n_users = df_final.select(\"user\").distinct().count()\n",
    "n_movies = df_final.select(\"movie\").distinct().count()\n",
    "\n"
   ]
  },
  {
   "cell_type": "code",
   "execution_count": 10,
   "id": "a02e26b8-c260-4f5a-8150-fd7ab72229d4",
   "metadata": {},
   "outputs": [],
   "source": [
    "loss_fn = nn.MSELoss() # regression on ratings\n",
    "#optimizer = torch.optim.Adam(model.parameters(), lr=0.01)\n",
    "#optimizer = torch.optim.SGD(model.parameters(), lr=0.01, momentum=0.9, weight_decay=1e-5)\n",
    "#optimizer = torch.optim.RMSprop(model.parameters(), lr=0.001, weight_decay=1e-5)\n",
    "#optimizer = torch.optim.Adagrad(model.parameters(), lr=0.01, weight_decay=1e-5)\n"
   ]
  },
  {
   "cell_type": "code",
   "execution_count": 11,
   "id": "da2069b2-cd61-4f80-a1b3-e7504fbc5499",
   "metadata": {},
   "outputs": [],
   "source": [
    "def adam(parameter, m_state, v_state, t, lr=0.01, beta1=0.9, beta2=0.999, epsilon=1e-8):\n",
    "    # Loop over Tensors in model.parameters()\n",
    "    for p in parameter:\n",
    "        if p.grad is None:\n",
    "            continue\n",
    "\n",
    "        # First Time seeing this parameter\n",
    "        if p not in m_state:\n",
    "            m_state[p] = torch.zeros_like(p)\n",
    "            v_state[p] = torch.zeros_like(p)\n",
    "\n",
    "        g = p.grad\n",
    "        # First moment\n",
    "        m_state[p] = beta1 * m_state[p] + (1 - beta1) * g\n",
    "        # Second moment\n",
    "        v_state[p] = beta2 * v_state[p] + (1 - beta2) * (g * g)\n",
    "\n",
    "        # Bias correction\n",
    "        m_corrected = m_state[p] / (1 - beta1 ** t)\n",
    "        v_corrected = v_state[p] / (1 - beta2 ** t)\n",
    "\n",
    "        # Parameter update (in-place)\n",
    "        p.data -= lr * m_corrected / (torch.sqrt(v_corrected) + epsilon)\n",
    "\n",
    "    return m_state, v_state\n"
   ]
  },
  {
   "cell_type": "code",
   "execution_count": 12,
   "id": "1275f03c",
   "metadata": {},
   "outputs": [
    {
     "name": "stdout",
     "output_type": "stream",
     "text": [
      "\n",
      "Epoch 1/10\n",
      "Train Loss: 0.0540, Train RMSE: 0.2325\n",
      "Test  Loss: 0.0445, Test  RMSE: 0.2110\n",
      "\n",
      "Epoch 2/10\n",
      "Train Loss: 0.0438, Train RMSE: 0.2092\n",
      "Test  Loss: 0.0416, Test  RMSE: 0.2038\n",
      "\n",
      "Epoch 3/10\n",
      "Train Loss: 0.0410, Train RMSE: 0.2025\n",
      "Test  Loss: 0.0414, Test  RMSE: 0.2034\n",
      "\n",
      "Epoch 4/10\n",
      "Train Loss: 0.0396, Train RMSE: 0.1991\n",
      "Test  Loss: 0.0405, Test  RMSE: 0.2013\n",
      "\n",
      "Epoch 5/10\n",
      "Train Loss: 0.0387, Train RMSE: 0.1968\n",
      "Test  Loss: 0.0404, Test  RMSE: 0.2009\n",
      "\n",
      "Epoch 6/10\n",
      "Train Loss: 0.0382, Train RMSE: 0.1955\n",
      "Test  Loss: 0.0406, Test  RMSE: 0.2013\n",
      "\n",
      "Epoch 7/10\n",
      "Train Loss: 0.0376, Train RMSE: 0.1939\n",
      "Test  Loss: 0.0395, Test  RMSE: 0.1987\n",
      "\n",
      "Epoch 8/10\n",
      "Train Loss: 0.0373, Train RMSE: 0.1931\n",
      "Test  Loss: 0.0402, Test  RMSE: 0.2004\n",
      "\n",
      "Epoch 9/10\n",
      "Train Loss: 0.0369, Train RMSE: 0.1920\n",
      "Test  Loss: 0.0409, Test  RMSE: 0.2021\n",
      "\n",
      "Epoch 10/10\n",
      "Train Loss: 0.0367, Train RMSE: 0.1916\n",
      "Test  Loss: 0.0398, Test  RMSE: 0.1994\n"
     ]
    },
    {
     "data": {
      "text/plain": [
       "<All keys matched successfully>"
      ]
     },
     "execution_count": 12,
     "metadata": {},
     "output_type": "execute_result"
    }
   ],
   "source": [
    "import copy\n",
    "all_base = []  # list to store per-epoch stats \n",
    "\n",
    "# ----------Creating model-----------\n",
    "model = CollabFiltering(n_users, n_movies, emb_dim=16, hidden=16, dropout=0.1)\n",
    "m_state, v_state, t = {}, {}, 0\n",
    "n_epochs = 10\n",
    "\n",
    "best_rmse = float(\"inf\")\n",
    "best_epoch = -1\n",
    "best_state = None\n",
    "\n",
    "train_losses_epoch, test_losses_epoch = [], []\n",
    "train_rmses_epoch, test_rmses_epoch = [], []\n",
    "epoch_states = []\n",
    "\n",
    "for epoch in range(n_epochs):\n",
    "    # ---------- Training ----------\n",
    "    model.train()\n",
    "    total_loss, total_sq_error, total_samples = 0,0,0\n",
    "    for X_batch, y_batch in train_loader:\n",
    "        preds = model(X_batch[:,0].long(), X_batch[:,1].long()).squeeze()\n",
    "        loss = loss_fn(preds, y_batch.float())\n",
    "        model.zero_grad()\n",
    "        loss.backward()\n",
    "        t += 1\n",
    "        m_state, v_state = adam(model.parameters(), m_state, v_state, t)\n",
    "        total_loss += loss.item()\n",
    "        total_sq_error += torch.sum((preds - y_batch)**2).item()\n",
    "        total_samples += len(y_batch)\n",
    "    train_loss = total_loss / len(train_loader)\n",
    "    train_rmse = (total_sq_error / total_samples)**0.5\n",
    "\n",
    "    # ---------- Testing ----------\n",
    "    model.eval()\n",
    "    total_loss, total_sq_error, total_samples = 0,0,0\n",
    "    with torch.no_grad():\n",
    "        for X_batch, y_batch in test_loader:\n",
    "            preds = model(X_batch[:,0].long(), X_batch[:,1].long()).squeeze()\n",
    "            loss = loss_fn(preds, y_batch.float())\n",
    "            total_loss += loss.item()\n",
    "            total_sq_error += torch.sum((preds - y_batch)**2).item()\n",
    "            total_samples += len(y_batch)\n",
    "    test_loss = total_loss / len(test_loader)\n",
    "    test_rmse = (total_sq_error / total_samples)**0.5\n",
    "\n",
    "    # ---------- Save per-epoch stats ----------\n",
    "    train_losses_epoch.append(train_loss)\n",
    "    test_losses_epoch.append(test_loss)\n",
    "    train_rmses_epoch.append(train_rmse)\n",
    "    test_rmses_epoch.append(test_rmse)\n",
    "    epoch_states.append(copy.deepcopy(model.state_dict()))\n",
    "\n",
    "    print(f\"\\nEpoch {epoch+1}/{n_epochs}\")\n",
    "    print(f\"Train Loss: {train_loss:.4f}, Train RMSE: {train_rmse:.4f}\")\n",
    "    print(f\"Test  Loss: {test_loss:.4f}, Test  RMSE: {test_rmse:.4f}\")\n",
    "\n",
    "    # ---------- Check best ----------\n",
    "    if test_rmse < best_rmse:\n",
    "        best_rmse = test_rmse\n",
    "        best_epoch = epoch+1\n",
    "        best_state = copy.deepcopy(model.state_dict())\n",
    "\n",
    "\n",
    "all_base.append({\n",
    "    \"id\": 1,\n",
    "    \"train_losses\": train_losses_epoch,\n",
    "    \"test_losses\": test_losses_epoch,\n",
    "    \"train_rmses\": train_rmses_epoch,\n",
    "    \"test_rmses\": test_rmses_epoch,\n",
    "    \"epoch_states\": epoch_states,\n",
    "    \"best_epoch\": best_epoch,\n",
    "    \"best_rmse\": best_rmse\n",
    "})\n",
    "\n",
    "model.load_state_dict(best_state)\n"
   ]
  },
  {
   "cell_type": "code",
   "execution_count": 17,
   "id": "d49dc5db",
   "metadata": {},
   "outputs": [
    {
     "data": {
      "image/png": "[encoded data removed]",
      "text/plain": [
       "<Figure size 800x500 with 1 Axes>"
      ]
     },
     "metadata": {},
     "output_type": "display_data"
    }
   ],
   "source": [
    "import matplotlib.pyplot as plt\n",
    "\n",
    "# Extract train losses\n",
    "train_losses = all_base[0][\"train_losses\"]\n",
    "n_epochs = len(train_losses)\n",
    "\n",
    "# Plot\n",
    "plt.figure(figsize=(8,5))\n",
    "plt.plot(range(1, n_epochs+1), train_losses, marker='o', color='blue', label=\"Train Loss\")\n",
    "plt.xlabel(\"Epoch\")\n",
    "plt.ylabel(\"Training Loss\")\n",
    "plt.title(\"Training Loss\")\n",
    "plt.grid(True)\n",
    "plt.legend()\n",
    "plt.show()\n"
   ]
  },
  {
   "cell_type": "code",
   "execution_count": 14,
   "id": "fe81a7f0",
   "metadata": {},
   "outputs": [
    {
     "data": {
      "image/png": "[encoded data removed]",
      "text/plain": [
       "<Figure size 800x500 with 1 Axes>"
      ]
     },
     "metadata": {},
     "output_type": "display_data"
    }
   ],
   "source": [
    "import matplotlib.pyplot as plt\n",
    "\n",
    "# Extract test RMSE\n",
    "test_rmses = all_base[0][\"test_rmses\"]\n",
    "\n",
    "# Plot Test RMSE\n",
    "plt.figure(figsize=(8,5))\n",
    "plt.plot(range(1, n_epochs+1), test_rmses, marker='s', color='orange', label=\"Test RMSE\")\n",
    "plt.xlabel(\"Epoch\")\n",
    "plt.ylabel(\"Test RMSE\")\n",
    "plt.title(\"Test RMSE vs Epoch for Base Model\")\n",
    "plt.grid(True)\n",
    "plt.legend()\n",
    "plt.show()\n"
   ]
  },
  {
   "cell_type": "code",
   "execution_count": 18,
   "id": "59d6eb74",
   "metadata": {},
   "outputs": [],
   "source": [
    "import utils\n",
    "\n",
    "metrics = {\n",
    "    \"train_losses\": all_base[0][\"train_losses\"],\n",
    "    \"test_rmses\": all_base[0][\"test_rmses\"]\n",
    "}\n",
    "\n",
    "# Save to a pickle file\n",
    "utils.save_results(\"results/base_approach.pkl\", metrics)\n"
   ]
  },
  {
   "cell_type": "code",
   "execution_count": null,
   "id": "388dc2a1",
   "metadata": {},
   "outputs": [],
   "source": []
  }
 ],
 "metadata": {
  "kernelspec": {
   "display_name": "GDP",
   "language": "python",
   "name": "python3"
  },
  "language_info": {
   "codemirror_mode": {
    "name": "ipython",
    "version": 3
   },
   "file_extension": ".py",
   "mimetype": "text/x-python",
   "name": "python",
   "nbconvert_exporter": "python",
   "pygments_lexer": "ipython3",
   "version": "3.12.11"
  }
 },
 "nbformat": 4,
 "nbformat_minor": 5
}
