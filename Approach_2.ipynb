{
 "cells": [
  {
   "cell_type": "code",
   "execution_count": 8,
   "id": "cea9e34d",
   "metadata": {},
   "outputs": [],
   "source": [
    "try:\n",
    "    spark.stop()\n",
    "except:\n",
    "    pass"
   ]
  },
  {
   "cell_type": "code",
   "execution_count": 2,
   "id": "02ac0a47",
   "metadata": {},
   "outputs": [],
   "source": [
    "from pyspark.sql import SparkSession\n",
    "from pyspark.sql.functions import col\n",
    "from pyspark.sql.types import StructType, StructField, IntegerType, FloatType\n",
    "\n",
    "spark = SparkSession.builder \\\n",
    "    .appName(\"APP_2\") \\\n",
    "    .config(\"spark.driver.memory\", \"8g\") \\\n",
    "    .config(\"spark.executor.memory\", \"8g\") \\\n",
    "    .getOrCreate()\n",
    "\n",
    "schema = StructType([\n",
    "    StructField(\"userId\", IntegerType(), True),\n",
    "    StructField(\"movieId\", IntegerType(), True),\n",
    "    StructField(\"rating\", FloatType(), True)\n",
    "])\n",
    "# Read ratings.csv\n",
    "df = spark.read.csv(\"ratings.csv\", header=True, schema = schema).cache()"
   ]
  },
  {
   "cell_type": "code",
   "execution_count": 3,
   "id": "375f1f19",
   "metadata": {},
   "outputs": [
    {
     "name": "stdout",
     "output_type": "stream",
     "text": [
      "Rows: 32000204\n",
      "Unique users: 200948\n",
      "Unique Movies: 84432\n"
     ]
    }
   ],
   "source": [
    "print(\"Rows:\", df.count())\n",
    "print(\"Unique users:\", df.select(\"userId\").distinct().count())\n",
    "print(\"Unique Movies:\", df.select(\"movieId\").distinct().count())"
   ]
  },
  {
   "cell_type": "code",
   "execution_count": 4,
   "id": "882bf170",
   "metadata": {},
   "outputs": [
    {
     "name": "stdout",
     "output_type": "stream",
     "text": [
      "+------+-------+------+\n",
      "|userId|movieId|rating|\n",
      "+------+-------+------+\n",
      "|    28|      1|   4.0|\n",
      "|    28|      2|   3.0|\n",
      "|    28|      3|   4.0|\n",
      "|    28|      5|   2.0|\n",
      "|    28|      6|   3.0|\n",
      "+------+-------+------+\n",
      "only showing top 5 rows\n",
      "Rows: 154972\n",
      "Unique users: 1000\n",
      "Unique Movies: 11459\n"
     ]
    }
   ],
   "source": [
    "# Select first n unique users\n",
    "unique_users = df.select(\"userId\").distinct().limit(1000)\n",
    "\n",
    "# Keep only rows from these users\n",
    "df = df.join(unique_users, on=\"userId\", how=\"inner\")\n",
    "\n",
    "df.show(5)\n",
    "print(\"Rows:\", df.count())\n",
    "print(\"Unique users:\", df.select(\"userId\").distinct().count())\n",
    "print(\"Unique Movies:\", df.select(\"movieId\").distinct().count())"
   ]
  },
  {
   "cell_type": "code",
   "execution_count": 5,
   "id": "698693e5",
   "metadata": {},
   "outputs": [
    {
     "name": "stdout",
     "output_type": "stream",
     "text": [
      "Sparsity: 1.3524%\n"
     ]
    }
   ],
   "source": [
    "n_users = df.select(\"userId\").distinct().count()\n",
    "n_movies = df.select(\"movieId\").distinct().count()\n",
    "n_ratings = df.count()\n",
    "\n",
    "sparsity = (n_ratings / (n_users * n_movies)) * 100\n",
    "print(f\"Sparsity: {sparsity:.4f}%\")"
   ]
  },
  {
   "cell_type": "code",
   "execution_count": 6,
   "id": "97398796",
   "metadata": {},
   "outputs": [
    {
     "name": "stdout",
     "output_type": "stream",
     "text": [
      "+----+-----+-------------+\n",
      "|user|movie|rating_scaled|\n",
      "+----+-----+-------------+\n",
      "| 0.0| 11.0|          0.8|\n",
      "| 0.0|157.0|          0.6|\n",
      "| 0.0|456.0|          0.8|\n",
      "| 0.0|389.0|          0.3|\n",
      "| 0.0|139.0|          0.6|\n",
      "+----+-----+-------------+\n",
      "only showing top 5 rows\n"
     ]
    }
   ],
   "source": [
    "from pyspark.sql.functions import col, round as spark_round\n",
    "from pyspark.ml.feature import StringIndexer, VectorAssembler, MinMaxScaler\n",
    "from pyspark.ml import Pipeline\n",
    "from pyspark.ml.functions import vector_to_array\n",
    "\n",
    "user_indexer = StringIndexer(inputCol=\"userId\", outputCol=\"user\")\n",
    "movie_indexer = StringIndexer(inputCol=\"movieId\", outputCol=\"movie\")\n",
    "assembler = VectorAssembler(inputCols=[\"rating\"], outputCol=\"rating_vec\")\n",
    "scaler = MinMaxScaler(inputCol=\"rating_vec\", outputCol=\"rating_scaled\")\n",
    "\n",
    "pipeline = Pipeline(stages=[user_indexer, movie_indexer, assembler, scaler])\n",
    "\n",
    "pipeline_model = pipeline.fit(df)\n",
    "scaled_df = pipeline_model.transform(df)\n",
    "\n",
    "# Flatten vector -> float, then round to 1 decimal\n",
    "scaled_df = scaled_df.withColumn(\n",
    "    \"rating_scaled\",\n",
    "    spark_round(vector_to_array(col(\"rating_scaled\"))[0], 1)\n",
    ")\n",
    "\n",
    "# Keep only necessary columns\n",
    "df_final = scaled_df.select(\"user\", \"movie\", \"rating_scaled\")\n",
    "df_final = df_final.cache()\n",
    "df_final.show(5)"
   ]
  },
  {
   "cell_type": "code",
   "execution_count": 7,
   "id": "56607c90",
   "metadata": {},
   "outputs": [],
   "source": [
    "spark.conf.set(\"spark.sql.execution.arrow.enabled\", \"true\")"
   ]
  },
  {
   "cell_type": "code",
   "execution_count": 8,
   "id": "8b25bc29",
   "metadata": {},
   "outputs": [
    {
     "name": "stdout",
     "output_type": "stream",
     "text": [
      "Train count: 123827\n",
      "Train Label: 123827\n",
      "Test count: 31145\n",
      "Test Label: 31145\n"
     ]
    }
   ],
   "source": [
    "import torch\n",
    "\n",
    "# 80% train, 20% test\n",
    "train_df, test_df = df_final.randomSplit([0.8, 0.2], seed=42)\n",
    "\n",
    "#Converting PySpark DF to Pandas to Tensors\n",
    "train_pd = train_df.toPandas()\n",
    "test_pd = test_df.toPandas()\n",
    "\n",
    "X_train = torch.tensor(train_pd[[\"user\", \"movie\"]].values)\n",
    "y_train = torch.tensor(train_pd[\"rating_scaled\"].values)\n",
    "\n",
    "X_test = torch.tensor(test_pd[[\"user\", \"movie\"]].values)\n",
    "y_test = torch.tensor(test_pd[\"rating_scaled\"].values)\n",
    "\n",
    "print(\"Train count:\", X_train.shape[0])\n",
    "print(\"Train Label:\",y_train.shape[0])\n",
    "print(\"Test count:\", X_test.shape[0])\n",
    "print(\"Test Label:\",y_test.shape[0])"
   ]
  },
  {
   "cell_type": "code",
   "execution_count": 9,
   "id": "75a1dc49",
   "metadata": {},
   "outputs": [],
   "source": [
    "from torch.utils.data import TensorDataset, DataLoader\n",
    "\n",
    "# Create datasets\n",
    "train_dataset = TensorDataset(X_train, y_train)\n",
    "test_dataset = TensorDataset(X_test, y_test)\n",
    "#print(train_dataset[2200])\n",
    "\n",
    "# DataLoaders\n",
    "train_loader = DataLoader(train_dataset, batch_size=64, shuffle=True)\n",
    "test_loader = DataLoader(test_dataset, batch_size=64)"
   ]
  },
  {
   "cell_type": "code",
   "execution_count": 10,
   "id": "b591fbaa",
   "metadata": {},
   "outputs": [],
   "source": [
    "import torch.nn as nn\n",
    "import torch.nn.functional as F\n",
    "\n",
    "class CollabFiltering(nn.Module):\n",
    "    def __init__(self, n_users, n_movies, emb_dim, hidden, dropout):\n",
    "        super().__init__()\n",
    "        self.user_emb = nn.Embedding(n_users, emb_dim)   \n",
    "        self.movie_emb = nn.Embedding(n_movies, emb_dim)  \n",
    "        self.dropout_emb = 0.4\n",
    "\n",
    "        self.mlp = nn.Sequential(\n",
    "            nn.Linear(emb_dim * 2, hidden), \n",
    "            nn.BatchNorm1d(hidden),  \n",
    "            nn.ReLU(),\n",
    "            nn.Dropout(dropout),\n",
    "            nn.Linear(hidden, 1),  \n",
    "            nn.Sigmoid()  \n",
    "        )\n",
    "\n",
    "    def forward(self,user,movie):\n",
    "        u = F.dropout(self.user_emb(user), p=self.dropout_emb, training=self.training)\n",
    "        m = F.dropout(self.movie_emb(movie), p=self.dropout_emb, training=self.training)\n",
    "        \n",
    "        # Concatenate embeddings (instead of dot product)\n",
    "        x = torch.cat([u, m], dim=1)\n",
    "        \n",
    "        # Pass through MLP\n",
    "        return self.mlp(x).squeeze()\n"
   ]
  },
  {
   "cell_type": "code",
   "execution_count": 11,
   "id": "7c039c14",
   "metadata": {},
   "outputs": [],
   "source": [
    "loss_fn = nn.MSELoss()"
   ]
  },
  {
   "cell_type": "code",
   "execution_count": 12,
   "id": "2b9be9a5",
   "metadata": {},
   "outputs": [],
   "source": [
    "def adam(parameter, m_state, v_state, t, lr=0.1, beta1=0.9, beta2=0.999, epsilon=1e-8):\n",
    "    # Loop over Tensors in model.parameters()\n",
    "    for p in parameter:\n",
    "        if p.grad is None:\n",
    "            continue\n",
    "\n",
    "        # First Time seeing this parameter\n",
    "        if p not in m_state:\n",
    "            m_state[p] = torch.zeros_like(p)\n",
    "            v_state[p] = torch.zeros_like(p)\n",
    "\n",
    "        g = p.grad\n",
    "        # First moment\n",
    "        m_state[p] = beta1 * m_state[p] + (1 - beta1) * g\n",
    "        # Second moment\n",
    "        v_state[p] = beta2 * v_state[p] + (1 - beta2) * (g * g)\n",
    "\n",
    "        # Bias correction\n",
    "        m_corrected = m_state[p] / (1 - beta1 ** t)\n",
    "        v_corrected = v_state[p] / (1 - beta2 ** t)\n",
    "\n",
    "        # Parameter update (in-place)\n",
    "        p.data -= lr * m_corrected / (torch.sqrt(v_corrected) + epsilon)\n",
    "\n",
    "    return m_state, v_state\n"
   ]
  },
  {
   "cell_type": "code",
   "execution_count": 18,
   "id": "7725ffc3",
   "metadata": {},
   "outputs": [
    {
     "name": "stdout",
     "output_type": "stream",
     "text": [
      "\n",
      "=== Training Node 1 ===\n",
      "Node 1 | Epoch 1/10 | Train RMSE: 0.2226 | Test RMSE: 0.2105\n",
      "Node 1 | Epoch 2/10 | Train RMSE: 0.2147 | Test RMSE: 0.2086\n",
      "Node 1 | Epoch 3/10 | Train RMSE: 0.2130 | Test RMSE: 0.2090\n",
      "Node 1 | Epoch 4/10 | Train RMSE: 0.2119 | Test RMSE: 0.2073\n",
      "Node 1 | Epoch 5/10 | Train RMSE: 0.2113 | Test RMSE: 0.2069\n",
      "Node 1 | Epoch 6/10 | Train RMSE: 0.2106 | Test RMSE: 0.2092\n",
      "Node 1 | Epoch 7/10 | Train RMSE: 0.2101 | Test RMSE: 0.2083\n",
      "Node 1 | Epoch 8/10 | Train RMSE: 0.2071 | Test RMSE: 0.2066\n",
      "Node 1 | Epoch 9/10 | Train RMSE: 0.2048 | Test RMSE: 0.2090\n",
      "Node 1 | Epoch 10/10 | Train RMSE: 0.2045 | Test RMSE: 0.2070\n",
      "\n",
      "=== Training Node 2 ===\n",
      "Node 2 | Epoch 1/10 | Train RMSE: 0.2234 | Test RMSE: 0.2142\n",
      "Node 2 | Epoch 2/10 | Train RMSE: 0.2149 | Test RMSE: 0.2097\n",
      "Node 2 | Epoch 3/10 | Train RMSE: 0.2129 | Test RMSE: 0.2113\n",
      "Node 2 | Epoch 4/10 | Train RMSE: 0.2120 | Test RMSE: 0.2084\n",
      "Node 2 | Epoch 5/10 | Train RMSE: 0.2116 | Test RMSE: 0.2094\n",
      "Node 2 | Epoch 6/10 | Train RMSE: 0.2109 | Test RMSE: 0.2106\n",
      "Node 2 | Epoch 7/10 | Train RMSE: 0.2104 | Test RMSE: 0.2068\n",
      "Node 2 | Epoch 8/10 | Train RMSE: 0.2105 | Test RMSE: 0.2062\n",
      "Node 2 | Epoch 9/10 | Train RMSE: 0.2094 | Test RMSE: 0.2111\n",
      "Node 2 | Epoch 10/10 | Train RMSE: 0.2098 | Test RMSE: 0.2076\n",
      "\n",
      "=== Training Node 3 ===\n",
      "Node 3 | Epoch 1/10 | Train RMSE: 0.2194 | Test RMSE: 0.2084\n",
      "Node 3 | Epoch 2/10 | Train RMSE: 0.2107 | Test RMSE: 0.2114\n",
      "Node 3 | Epoch 3/10 | Train RMSE: 0.2082 | Test RMSE: 0.2064\n",
      "Node 3 | Epoch 4/10 | Train RMSE: 0.2066 | Test RMSE: 0.2081\n",
      "Node 3 | Epoch 5/10 | Train RMSE: 0.2061 | Test RMSE: 0.2076\n",
      "Node 3 | Epoch 6/10 | Train RMSE: 0.2054 | Test RMSE: 0.2081\n",
      "Node 3 | Epoch 7/10 | Train RMSE: 0.2047 | Test RMSE: 0.2077\n",
      "Node 3 | Epoch 8/10 | Train RMSE: 0.2046 | Test RMSE: 0.2076\n",
      "Node 3 | Epoch 9/10 | Train RMSE: 0.2045 | Test RMSE: 0.2050\n",
      "Node 3 | Epoch 10/10 | Train RMSE: 0.2040 | Test RMSE: 0.2055\n",
      "\n",
      "=== Training Node 4 ===\n",
      "Node 4 | Epoch 1/10 | Train RMSE: 0.2196 | Test RMSE: 0.2080\n",
      "Node 4 | Epoch 2/10 | Train RMSE: 0.2099 | Test RMSE: 0.2053\n",
      "Node 4 | Epoch 3/10 | Train RMSE: 0.2066 | Test RMSE: 0.2060\n",
      "Node 4 | Epoch 4/10 | Train RMSE: 0.2049 | Test RMSE: 0.2062\n",
      "Node 4 | Epoch 5/10 | Train RMSE: 0.2038 | Test RMSE: 0.2047\n",
      "Node 4 | Epoch 6/10 | Train RMSE: 0.2035 | Test RMSE: 0.2179\n",
      "Node 4 | Epoch 7/10 | Train RMSE: 0.2026 | Test RMSE: 0.2081\n",
      "Node 4 | Epoch 8/10 | Train RMSE: 0.2028 | Test RMSE: 0.2089\n",
      "Node 4 | Epoch 9/10 | Train RMSE: 0.2022 | Test RMSE: 0.2095\n",
      "Node 4 | Epoch 10/10 | Train RMSE: 0.2017 | Test RMSE: 0.2084\n",
      "\n",
      "=== Training Node 5 ===\n",
      "Node 5 | Epoch 1/10 | Train RMSE: 0.2186 | Test RMSE: 0.2120\n",
      "Node 5 | Epoch 2/10 | Train RMSE: 0.2091 | Test RMSE: 0.2063\n",
      "Node 5 | Epoch 3/10 | Train RMSE: 0.2064 | Test RMSE: 0.2061\n",
      "Node 5 | Epoch 4/10 | Train RMSE: 0.2050 | Test RMSE: 0.2091\n",
      "Node 5 | Epoch 5/10 | Train RMSE: 0.2045 | Test RMSE: 0.2093\n",
      "Node 5 | Epoch 6/10 | Train RMSE: 0.2036 | Test RMSE: 0.2096\n",
      "Node 5 | Epoch 7/10 | Train RMSE: 0.2028 | Test RMSE: 0.2071\n",
      "Node 5 | Epoch 8/10 | Train RMSE: 0.2020 | Test RMSE: 0.2039\n",
      "Node 5 | Epoch 9/10 | Train RMSE: 0.2021 | Test RMSE: 0.2049\n",
      "Node 5 | Epoch 10/10 | Train RMSE: 0.2017 | Test RMSE: 0.2138\n"
     ]
    },
    {
     "data": {
      "image/png": "[encoded data removed]",
      "text/plain": [
       "<Figure size 800x500 with 1 Axes>"
      ]
     },
     "metadata": {},
     "output_type": "display_data"
    },
    {
     "data": {
      "image/png": "[encoded data removed]",
      "text/plain": [
       "<Figure size 800x500 with 1 Axes>"
      ]
     },
     "metadata": {},
     "output_type": "display_data"
    }
   ],
   "source": [
    "import copy\n",
    "import matplotlib.pyplot as plt\n",
    "\n",
    "# ---------- Settings ----------\n",
    "epochs = 10\n",
    "n_nodes = 5\n",
    "all_nodes_stats = []         # store each node's per-epoch stats\n",
    "min_train_curve = []         # aggregated min train loss per epoch\n",
    "min_test_rmse_curve = []     # aggregated min test RMSE per epoch\n",
    "\n",
    "n_users_global = df_final.select(\"user\").distinct().count()\n",
    "n_movies_global = df_final.select(\"movie\").distinct().count()\n",
    "\n",
    "# ---------- Train nodes ----------\n",
    "for node_id in range(1, n_nodes + 1):\n",
    "    print(f\"\\n=== Training Node {node_id} ===\")\n",
    "    node_model = CollabFiltering(n_users_global, n_movies_global, emb_dim=16, hidden=16, dropout=0.1)\n",
    "\n",
    "    train_losses_epoch, test_losses_epoch = [], []\n",
    "    train_rmses_epoch, test_rmses_epoch = [], []\n",
    "    epoch_states = []\n",
    "\n",
    "    # Adam states\n",
    "    m_state, v_state, t = {}, {}, 0\n",
    "\n",
    "    for epoch in range(epochs):\n",
    "        # ---------- Training ----------\n",
    "        node_model.train()\n",
    "        total_loss, total_sq_error, total_samples = 0, 0, 0\n",
    "        for X_batch, y_batch in train_loader:\n",
    "            preds = node_model(X_batch[:, 0].long(), X_batch[:, 1].long()).squeeze()\n",
    "            loss = loss_fn(preds, y_batch.float())\n",
    "            node_model.zero_grad()\n",
    "            loss.backward()\n",
    "            t += 1\n",
    "\n",
    "            # ---------- Adam optimizer step ----------\n",
    "            m_state, v_state = adam(node_model.parameters(), m_state, v_state, t)\n",
    "\n",
    "            total_loss += loss.item()\n",
    "            total_sq_error += torch.sum((preds - y_batch)**2).item()\n",
    "            total_samples += len(y_batch)\n",
    "\n",
    "        train_loss = total_loss / len(train_loader)\n",
    "        train_rmse = (total_sq_error / total_samples)**0.5\n",
    "\n",
    "        # ---------- Testing ----------\n",
    "        node_model.eval()\n",
    "        total_loss, total_sq_error, total_samples = 0, 0, 0\n",
    "        with torch.no_grad():\n",
    "            for X_batch, y_batch in test_loader:\n",
    "                preds = node_model(X_batch[:, 0].long(), X_batch[:, 1].long()).squeeze()\n",
    "                loss = loss_fn(preds, y_batch.float())\n",
    "                total_loss += loss.item()\n",
    "                total_sq_error += torch.sum((preds - y_batch)**2).item()\n",
    "                total_samples += len(y_batch)\n",
    "\n",
    "        test_loss = total_loss / len(test_loader)\n",
    "        test_rmse = (total_sq_error / total_samples)**0.5\n",
    "\n",
    "        # ---------- Save per-epoch stats ----------\n",
    "        train_losses_epoch.append(train_loss)\n",
    "        test_losses_epoch.append(test_loss)\n",
    "        train_rmses_epoch.append(train_rmse)\n",
    "        test_rmses_epoch.append(test_rmse)\n",
    "        epoch_states.append(copy.deepcopy(node_model.state_dict()))\n",
    "\n",
    "        print(f\"Node {node_id} | Epoch {epoch+1}/{epochs} | \"\n",
    "              f\"Train RMSE: {train_rmse:.4f} | Test RMSE: {test_rmse:.4f}\")\n",
    "\n",
    "    # ---------- Store node info ----------\n",
    "    all_nodes_stats.append({\n",
    "        \"node\": node_id,\n",
    "        \"train_losses\": train_losses_epoch,\n",
    "        \"test_losses\": test_losses_epoch,\n",
    "        \"train_rmses\": train_rmses_epoch,\n",
    "        \"test_rmses\": test_rmses_epoch,\n",
    "        \"epoch_states\": epoch_states\n",
    "    })\n",
    "\n",
    "# ---------- Aggregation (MIN across nodes for each epoch) ----------\n",
    "for epoch in range(epochs):\n",
    "    min_train_curve.append(min(node[\"train_losses\"][epoch] for node in all_nodes_stats))\n",
    "    min_test_rmse_curve.append(min(node[\"test_rmses\"][epoch] for node in all_nodes_stats))\n",
    "\n",
    "# ---------- Plot Minimum Train Loss ----------\n",
    "plt.figure(figsize=(8,5))\n",
    "plt.plot(range(1, epochs+1), min_train_curve, marker='o', label=\"Min Train Loss\")\n",
    "plt.xlabel(\"Epoch\")\n",
    "plt.ylabel(\"Training Loss\")\n",
    "plt.title(\"Epoch-wise Minimum Train Loss Across Nodes\")\n",
    "plt.legend()\n",
    "plt.grid(True)\n",
    "plt.show()\n",
    "\n",
    "# ---------- Plot Minimum Test RMSE ----------\n",
    "plt.figure(figsize=(8,5))\n",
    "plt.plot(range(1, epochs+1), min_test_rmse_curve, marker='s', color='orange', label=\"Min Test RMSE\")\n",
    "plt.xlabel(\"Epoch\")\n",
    "plt.ylabel(\"Test RMSE\")\n",
    "plt.title(\"Epoch-wise Minimum Test RMSE Across Nodes\")\n",
    "plt.legend()\n",
    "plt.grid(True)\n",
    "plt.show()\n",
    "\n"
   ]
  },
  {
   "cell_type": "code",
   "execution_count": 19,
   "id": "9b57f49f",
   "metadata": {},
   "outputs": [],
   "source": [
    "import utils\n",
    "\n",
    "metrics = {\n",
    "    \"min_train_curve\": min_train_curve,\n",
    "    \"min_test_rmse_curve\": min_test_rmse_curve\n",
    "}\n",
    "\n",
    "# Save the Base approach results\n",
    "utils.save_results(\"results/epoch_split.pkl\", metrics)\n"
   ]
  }
 ],
 "metadata": {
  "kernelspec": {
   "display_name": "GDP",
   "language": "python",
   "name": "python3"
  },
  "language_info": {
   "codemirror_mode": {
    "name": "ipython",
    "version": 3
   },
   "file_extension": ".py",
   "mimetype": "text/x-python",
   "name": "python",
   "nbconvert_exporter": "python",
   "pygments_lexer": "ipython3",
   "version": "3.12.11"
  }
 },
 "nbformat": 4,
 "nbformat_minor": 5
}
